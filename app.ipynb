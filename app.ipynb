{
 "cells": [
  {
   "cell_type": "code",
   "execution_count": 5,
   "id": "a55f1b1f-1ba2-41d2-8306-9c3bc76df324",
   "metadata": {},
   "outputs": [
    {
     "data": {
      "text/html": [
       "\n",
       "        <iframe\n",
       "            width=\"100%\"\n",
       "            height=\"650\"\n",
       "            src=\"http://127.0.0.1:8050/\"\n",
       "            frameborder=\"0\"\n",
       "            allowfullscreen\n",
       "            \n",
       "        ></iframe>\n",
       "        "
      ],
      "text/plain": [
       "<IPython.lib.display.IFrame at 0x227dde6a090>"
      ]
     },
     "metadata": {},
     "output_type": "display_data"
    }
   ],
   "source": [
    "import dash\n",
    "from dash import html, dcc\n",
    "import dash_bootstrap_components as dbc\n",
    "\n",
    "# Initialize the Dash app\n",
    "app = dash.Dash(__name__, external_stylesheets=[dbc.themes.BOOTSTRAP])\n",
    "\n",
    "# Define the layout\n",
    "app.layout = dbc.Container([\n",
    "    dbc.Row([\n",
    "        dbc.Col([\n",
    "            html.H1(\"Welcome to My Piano Livestream!\", className=\"text-center mt-4 mb-4\"),\n",
    "            html.Div([\n",
    "                html.Img(src=\"/assets/pian8_logo.png\", className=\"img-fluid rounded\"),\n",
    "            ], className=\"text-center\"),\n",
    "            html.H2(\"Join me on Twitch for live piano performances!\", className=\"text-center mt-4 mb-4\"),\n",
    "            dbc.Button(\"Watch on Twitch\", color=\"primary\", className=\"mr-2\", href=\"https://www.twitch.tv/pian8\"),\n",
    "            dbc.Button(\"Donate\", color=\"success\", href=\"https://www.justgiving.com/page/pian8\"),\n",
    "        ], width=8, className=\"mx-auto\")\n",
    "    ])\n",
    "], fluid=True)\n",
    "\n",
    "# Run the app\n",
    "if __name__ == '__main__':\n",
    "    app.run_server(debug=True)"
   ]
  },
  {
   "cell_type": "code",
   "execution_count": 39,
   "id": "c95e8166-264b-4a37-afef-8ccd55975fa3",
   "metadata": {},
   "outputs": [
    {
     "data": {
      "text/html": [
       "\n",
       "        <iframe\n",
       "            width=\"100%\"\n",
       "            height=\"650\"\n",
       "            src=\"http://127.0.0.1:8050/\"\n",
       "            frameborder=\"0\"\n",
       "            allowfullscreen\n",
       "            \n",
       "        ></iframe>\n",
       "        "
      ],
      "text/plain": [
       "<IPython.lib.display.IFrame at 0x227df081010>"
      ]
     },
     "metadata": {},
     "output_type": "display_data"
    }
   ],
   "source": [
    "# Initialize the Dash app\n",
    "app = dash.Dash(__name__, external_stylesheets=[\n",
    "    dbc.themes.BOOTSTRAP,\n",
    "    \"https://fonts.googleapis.com/css2?family=Jost:wght@300;400;700&display=swap\"  # Jost is very similar to Futura\n",
    "])\n",
    "\n",
    "# Custom styles\n",
    "custom_style = {\n",
    "    'fontFamily': \"'Jost', sans-serif\",\n",
    "}\n",
    "\n",
    "\n",
    "# Define the layout\n",
    "app.layout = dbc.Container([\n",
    "    html.Link(\n",
    "        rel='stylesheet',\n",
    "        href='https://fonts.googleapis.com/css2?family=Jost:wght@300;400;700&display=swap'\n",
    "    ),\n",
    "    dbc.Row([\n",
    "        dbc.Col([\n",
    "            html.Div([\n",
    "                html.Img(src=\"/assets/banner.png\", className=\"img-fluid rounded\"),\n",
    "            ], className=\"text-center\"),\n",
    "            html.H2(\"Join me for live piano performances!\", \n",
    "                    className=\"text-center mt-4 mb-4\",\n",
    "                    style={'fontFamily': \"'Jost', sans-serif\", 'fontWeight': '400'}),\n",
    "            html.Div([\n",
    "                dbc.Button(\"Watch on Twitch\", color=\"dark\", className=\"me-3\", href=\"https://www.twitch.tv/pian8\"),\n",
    "                dbc.Button(\"Donate\", color=\"dark\", className=\"me-3\", href=\"https://www.justgiving.com/page/pian8\"),\n",
    "                dbc.Button(\"Song List\", color=\"dark\", href=\"https://www.streamersonglist.com/t/pian8/songs\"),\n",
    "            ], className=\"d-flex justify-content-center\")\n",
    "        ], width=8, className=\"mx-auto\")\n",
    "    ])\n",
    "], fluid=True)\n",
    "\n",
    "# Run the app\n",
    "if __name__ == '__main__':\n",
    "    app.run_server(debug=True)\n"
   ]
  },
  {
   "cell_type": "code",
   "execution_count": 37,
   "id": "cb982994-9ae1-4789-9e40-5121c0adf6e0",
   "metadata": {},
   "outputs": [
    {
     "data": {
      "text/html": [
       "\n",
       "        <iframe\n",
       "            width=\"100%\"\n",
       "            height=\"650\"\n",
       "            src=\"http://127.0.0.1:8050/\"\n",
       "            frameborder=\"0\"\n",
       "            allowfullscreen\n",
       "            \n",
       "        ></iframe>\n",
       "        "
      ],
      "text/plain": [
       "<IPython.lib.display.IFrame at 0x227e1006150>"
      ]
     },
     "metadata": {},
     "output_type": "display_data"
    }
   ],
   "source": [
    "import dash\n",
    "from dash import html, dcc\n",
    "import dash_bootstrap_components as dbc\n",
    "\n",
    "# Initialize the Dash app\n",
    "app = dash.Dash(__name__, external_stylesheets=[\n",
    "    dbc.themes.BOOTSTRAP,\n",
    "    \"https://fonts.googleapis.com/css2?family=Jost:wght@300;400;700&display=swap\"  # Jost is very similar to Futura\n",
    "])\n",
    "\n",
    "# Custom styles\n",
    "custom_style = {\n",
    "    'fontFamily': \"'Jost', sans-serif\",\n",
    "}\n",
    "\n",
    "# Define the layout\n",
    "app.layout = dbc.Container([\n",
    "    html.Link(\n",
    "        rel='stylesheet',\n",
    "        href='https://fonts.googleapis.com/css2?family=Jost:wght@300;400;700&display=swap'\n",
    "    ),\n",
    "    dbc.Row([\n",
    "        dbc.Col([\n",
    "            html.H1(\"Welcome to My Piano Livestream!\", \n",
    "                    className=\"text-center mt-4 mb-4\",\n",
    "                    style={'fontFamily': \"'Jost', sans-serif\", 'fontWeight': '700'}),\n",
    "            html.Div([\n",
    "                html.Img(src=\"/assets/piano_image.jpg\", className=\"img-fluid rounded\"),\n",
    "            ], className=\"text-center\"),\n",
    "            html.H2(\"Join me for live piano performances!\", \n",
    "                    className=\"text-center mt-4 mb-4\",\n",
    "                    style={'fontFamily': \"'Jost', sans-serif\", 'fontWeight': '400'}),\n",
    "            html.Div([\n",
    "                dbc.Button(\"Watch on Twitch\", color=\"primary\", className=\"me-3\", href=\"https://www.twitch.tv/your_twitch_username\"),\n",
    "                dbc.Button(\"Donate\", color=\"success\", href=\"https://www.justgiving.com/page/pian8\"),\n",
    "            ], className=\"d-flex justify-content-center\")\n",
    "        ], width=8, className=\"mx-auto\")\n",
    "    ])\n",
    "], fluid=True, style=custom_style)\n",
    "\n",
    "# Run the app\n",
    "if __name__ == '__main__':\n",
    "    app.run_server(debug=True)\n"
   ]
  },
  {
   "cell_type": "code",
   "execution_count": null,
   "id": "0dec49f6-0a77-4836-8f99-cf5cd69e936c",
   "metadata": {},
   "outputs": [],
   "source": []
  }
 ],
 "metadata": {
  "kernelspec": {
   "display_name": "Python 3 (ipykernel)",
   "language": "python",
   "name": "python3"
  },
  "language_info": {
   "codemirror_mode": {
    "name": "ipython",
    "version": 3
   },
   "file_extension": ".py",
   "mimetype": "text/x-python",
   "name": "python",
   "nbconvert_exporter": "python",
   "pygments_lexer": "ipython3",
   "version": "3.11.9"
  }
 },
 "nbformat": 4,
 "nbformat_minor": 5
}
